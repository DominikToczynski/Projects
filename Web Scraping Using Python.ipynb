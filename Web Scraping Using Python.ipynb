{
 "cells": [
  {
   "cell_type": "code",
   "execution_count": 10,
   "id": "724d5fc2",
   "metadata": {},
   "outputs": [],
   "source": [
    "# import libraries\n",
    "\n",
    "from bs4 import BeautifulSoup\n",
    "import requests\n",
    "import time\n",
    "import datetime\n",
    "import pandas as pd\n",
    "import csv\n",
    "\n",
    "import smtplib"
   ]
  },
  {
   "cell_type": "code",
   "execution_count": 46,
   "id": "7b5a4fea",
   "metadata": {},
   "outputs": [
    {
     "name": "stdout",
     "output_type": "stream",
     "text": [
      "\n",
      "            SQL: 3 books 1 - The Ultimate Beginner, Intermediate & Expert Guides To Master SQL Programming Quickly with Practical Exercises\n",
      "           \n",
      "\n",
      "                           $22.79\n",
      "                          \n"
     ]
    }
   ],
   "source": [
    "# connect to website\n",
    "\n",
    "URL = 'https://www.amazon.com/SQL-Intermediate-Programming-Practical-Exercises/dp/B0B5MM3RMK/ref=sr_1_1_sspa?keywords=sql+book&qid=1667744250&sr=8-1-spons&psc=1'\n",
    "\n",
    "headers = {\"User-Agent\": 'Mozilla/5.0 (Windows NT 10.0; Win64; x64) AppleWebKit/537.36 (KHTML, like Gecko) Chrome/107.0.0.0 Safari/537.36', \"Accept-Encoding\": 'gzip, deflate, br', \"Accept\": 'text/html,application/xhtml+xml,application/xml;q=0.9,image/avif,image/webp,image/apng,*/*;q=0.8,application/signed-exchange;v=b3;q=0.9', \"DNT\": '1', \"Connection\": 'close', \"Upgrade-Insecure-Requests\": '1'} \n",
    "\n",
    "page = requests.get(URL, headers = headers)\n",
    "\n",
    "soup1 = BeautifulSoup(page.content, 'html.parser')\n",
    "\n",
    "soup2 = BeautifulSoup(soup1.prettify(), 'html.parser')\n",
    "\n",
    "title = soup2.find(id = 'productTitle').get_text()\n",
    "\n",
    "price = soup2.find(id = 'price').get_text()\n",
    "\n",
    "print(title)\n",
    "print(price)\n"
   ]
  },
  {
   "cell_type": "code",
   "execution_count": 28,
   "id": "84385018",
   "metadata": {},
   "outputs": [],
   "source": [
    "# clean unecessary whitespaces"
   ]
  },
  {
   "cell_type": "code",
   "execution_count": 48,
   "id": "1f5ee6f8",
   "metadata": {},
   "outputs": [
    {
     "name": "stdout",
     "output_type": "stream",
     "text": [
      "22.79\n",
      "SQL: 3 books 1 - The Ultimate Beginner, Intermediate & Expert Guides To Master SQL Programming Quickly with Practical Exercises\n"
     ]
    }
   ],
   "source": [
    "price = price.strip()[1:]\n",
    "title = title.strip()\n",
    "\n",
    "print(price)\n",
    "print(title)"
   ]
  },
  {
   "cell_type": "code",
   "execution_count": 63,
   "id": "5925a75b",
   "metadata": {},
   "outputs": [],
   "source": [
    "price = float(price)"
   ]
  },
  {
   "cell_type": "code",
   "execution_count": 64,
   "id": "5d9f6951",
   "metadata": {},
   "outputs": [
    {
     "data": {
      "text/plain": [
       "float"
      ]
     },
     "execution_count": 64,
     "metadata": {},
     "output_type": "execute_result"
    }
   ],
   "source": [
    "type(price)"
   ]
  },
  {
   "cell_type": "code",
   "execution_count": 29,
   "id": "3b8e1715",
   "metadata": {},
   "outputs": [
    {
     "name": "stdout",
     "output_type": "stream",
     "text": [
      "2022-11-06\n"
     ]
    }
   ],
   "source": [
    "today = datetime.date.today()\n",
    "\n",
    "print(today)\n"
   ]
  },
  {
   "cell_type": "code",
   "execution_count": 67,
   "id": "5983cf4f",
   "metadata": {},
   "outputs": [],
   "source": [
    "# this can only be ran once!\n",
    "\n",
    "header = ['Title', 'Price', 'Date']\n",
    "data = [title, price, today]\n",
    "\n",
    "#with open('WebScrapingUsingPython.csv', 'w', newline='', encoding = 'UTF8') as f:\n",
    "        #writer = csv.writer(f)\n",
    "        #writer.writerow(header)\n",
    "        #writer.writerow(data)\n"
   ]
  },
  {
   "cell_type": "code",
   "execution_count": 31,
   "id": "f1d829d7",
   "metadata": {},
   "outputs": [],
   "source": [
    "df = pd.read_csv('WebScrapingUsingPython.csv')"
   ]
  },
  {
   "cell_type": "code",
   "execution_count": 34,
   "id": "df329ea7",
   "metadata": {},
   "outputs": [
    {
     "data": {
      "text/html": [
       "<div>\n",
       "<style scoped>\n",
       "    .dataframe tbody tr th:only-of-type {\n",
       "        vertical-align: middle;\n",
       "    }\n",
       "\n",
       "    .dataframe tbody tr th {\n",
       "        vertical-align: top;\n",
       "    }\n",
       "\n",
       "    .dataframe thead th {\n",
       "        text-align: right;\n",
       "    }\n",
       "</style>\n",
       "<table border=\"1\" class=\"dataframe\">\n",
       "  <thead>\n",
       "    <tr style=\"text-align: right;\">\n",
       "      <th></th>\n",
       "      <th>Title</th>\n",
       "      <th>Price</th>\n",
       "      <th>Date</th>\n",
       "    </tr>\n",
       "  </thead>\n",
       "  <tbody>\n",
       "    <tr>\n",
       "      <th>0</th>\n",
       "      <td>SQL: 3 books 1 - The Ultimate Beginner, Interm...</td>\n",
       "      <td>22.79</td>\n",
       "      <td>2022-11-06</td>\n",
       "    </tr>\n",
       "    <tr>\n",
       "      <th>1</th>\n",
       "      <td>SQL: 3 books 1 - The Ultimate Beginner, Interm...</td>\n",
       "      <td>22.79</td>\n",
       "      <td>2022-11-06</td>\n",
       "    </tr>\n",
       "    <tr>\n",
       "      <th>2</th>\n",
       "      <td>SQL: 3 books 1 - The Ultimate Beginner, Interm...</td>\n",
       "      <td>22.79</td>\n",
       "      <td>2022-11-06</td>\n",
       "    </tr>\n",
       "    <tr>\n",
       "      <th>3</th>\n",
       "      <td>SQL: 3 books 1 - The Ultimate Beginner, Interm...</td>\n",
       "      <td>22.79</td>\n",
       "      <td>2022-11-06</td>\n",
       "    </tr>\n",
       "    <tr>\n",
       "      <th>4</th>\n",
       "      <td>SQL: 3 books 1 - The Ultimate Beginner, Interm...</td>\n",
       "      <td>22.79</td>\n",
       "      <td>2022-11-06</td>\n",
       "    </tr>\n",
       "    <tr>\n",
       "      <th>5</th>\n",
       "      <td>SQL: 3 books 1 - The Ultimate Beginner, Interm...</td>\n",
       "      <td>22.79</td>\n",
       "      <td>2022-11-06</td>\n",
       "    </tr>\n",
       "    <tr>\n",
       "      <th>6</th>\n",
       "      <td>SQL: 3 books 1 - The Ultimate Beginner, Interm...</td>\n",
       "      <td>22.79</td>\n",
       "      <td>2022-11-06</td>\n",
       "    </tr>\n",
       "    <tr>\n",
       "      <th>7</th>\n",
       "      <td>SQL: 3 books 1 - The Ultimate Beginner, Interm...</td>\n",
       "      <td>22.79</td>\n",
       "      <td>2022-11-06</td>\n",
       "    </tr>\n",
       "    <tr>\n",
       "      <th>8</th>\n",
       "      <td>SQL: 3 books 1 - The Ultimate Beginner, Interm...</td>\n",
       "      <td>22.79</td>\n",
       "      <td>2022-11-06</td>\n",
       "    </tr>\n",
       "    <tr>\n",
       "      <th>9</th>\n",
       "      <td>SQL: 3 books 1 - The Ultimate Beginner, Interm...</td>\n",
       "      <td>22.79</td>\n",
       "      <td>2022-11-06</td>\n",
       "    </tr>\n",
       "    <tr>\n",
       "      <th>10</th>\n",
       "      <td>SQL: 3 books 1 - The Ultimate Beginner, Interm...</td>\n",
       "      <td>22.79</td>\n",
       "      <td>2022-11-06</td>\n",
       "    </tr>\n",
       "  </tbody>\n",
       "</table>\n",
       "</div>"
      ],
      "text/plain": [
       "                                                Title  Price        Date\n",
       "0   SQL: 3 books 1 - The Ultimate Beginner, Interm...  22.79  2022-11-06\n",
       "1   SQL: 3 books 1 - The Ultimate Beginner, Interm...  22.79  2022-11-06\n",
       "2   SQL: 3 books 1 - The Ultimate Beginner, Interm...  22.79  2022-11-06\n",
       "3   SQL: 3 books 1 - The Ultimate Beginner, Interm...  22.79  2022-11-06\n",
       "4   SQL: 3 books 1 - The Ultimate Beginner, Interm...  22.79  2022-11-06\n",
       "5   SQL: 3 books 1 - The Ultimate Beginner, Interm...  22.79  2022-11-06\n",
       "6   SQL: 3 books 1 - The Ultimate Beginner, Interm...  22.79  2022-11-06\n",
       "7   SQL: 3 books 1 - The Ultimate Beginner, Interm...  22.79  2022-11-06\n",
       "8   SQL: 3 books 1 - The Ultimate Beginner, Interm...  22.79  2022-11-06\n",
       "9   SQL: 3 books 1 - The Ultimate Beginner, Interm...  22.79  2022-11-06\n",
       "10  SQL: 3 books 1 - The Ultimate Beginner, Interm...  22.79  2022-11-06"
      ]
     },
     "execution_count": 34,
     "metadata": {},
     "output_type": "execute_result"
    }
   ],
   "source": [
    "df"
   ]
  },
  {
   "cell_type": "code",
   "execution_count": 33,
   "id": "ef43f364",
   "metadata": {},
   "outputs": [],
   "source": [
    "# append data to csv. We need to change 'w' to 'a+' and remove writer.writerow(header)\n",
    "\n",
    "with open('WebScrapingUsingPython.csv', 'a+', newline='', encoding = 'UTF8') as f:\n",
    "        writer = csv.writer(f)\n",
    "        writer.writerow(data)\n",
    "        \n",
    "        "
   ]
  },
  {
   "cell_type": "code",
   "execution_count": 88,
   "id": "2b619bd3",
   "metadata": {},
   "outputs": [],
   "source": [
    "def send_email():\n",
    "    server = smtplib.SMTP_SSL('smtp.gmail.com', 465)\n",
    "    server.ehlo()\n",
    "    #server.starttls()\n",
    "    server.ehlo()\n",
    "    server.login('dominiktoczynski@gmail.com','password')\n",
    "    \n",
    "    subject = \"Current book price below $15\"\n",
    "    body = 'text'\n",
    "    \n",
    "    msg = f\"Subject: {subject}\\n\\n{Body}\"\n",
    "    \n",
    "    server.sendemail(\n",
    "        'dominiktoczynski@gmail.com',\n",
    "        msg)\n",
    "    \n",
    "    \n",
    "    \n",
    "    "
   ]
  },
  {
   "cell_type": "code",
   "execution_count": 89,
   "id": "f4c6f6ee",
   "metadata": {},
   "outputs": [],
   "source": [
    "\n",
    "def check_price():\n",
    "    URL = 'https://www.amazon.com/SQL-Intermediate-Programming-Practical-Exercises/dp/B0B5MM3RMK/ref=sr_1_1_sspa?keywords=sql+book&qid=1667744250&sr=8-1-spons&psc=1'\n",
    "\n",
    "    headers = {\"User-Agent\": 'Mozilla/5.0 (Windows NT 10.0; Win64; x64) AppleWebKit/537.36 (KHTML, like Gecko) Chrome/107.0.0.0 Safari/537.36', \"Accept-Encoding\": 'gzip, deflate, br', \"Accept\": 'text/html,application/xhtml+xml,application/xml;q=0.9,image/avif,image/webp,image/apng,*/*;q=0.8,application/signed-exchange;v=b3;q=0.9', \"DNT\": '1', \"Connection\": 'close', \"Upgrade-Insecure-Requests\": '1'} \n",
    "\n",
    "    page = requests.get(URL, headers = headers)\n",
    "\n",
    "    soup1 = BeautifulSoup(page.content, 'html.parser')\n",
    "\n",
    "    soup2 = BeautifulSoup(soup1.prettify(), 'html.parser')\n",
    "\n",
    "    title = soup2.find(id = 'productTitle').get_text()\n",
    "\n",
    "    price = soup2.find(id = 'price').get_text()\n",
    "\n",
    "    price = price.strip()[1:]\n",
    "    title = title.strip()\n",
    "    today = datetime.date.today()\n",
    "    price = float(price)\n",
    "    \n",
    "    header = ['Title', 'Price', 'Date']\n",
    "    data = [title, price, today]\n",
    "\n",
    "    with open('WebScrapingUsingPython.csv', 'a+', newline='', encoding = 'UTF8') as f:\n",
    "        writer = csv.writer(f)\n",
    "        writer.writerow(data)\n",
    "        \n",
    "    if(price < 23):\n",
    "        send_email()\n",
    "        \n"
   ]
  },
  {
   "cell_type": "code",
   "execution_count": null,
   "id": "9ac04399",
   "metadata": {},
   "outputs": [],
   "source": [
    "# if left open this code would update dataset everyday with current item price\n",
    "\n",
    "while(True):\n",
    "    check_price()\n",
    "    time.sleep(5)"
   ]
  },
  {
   "cell_type": "code",
   "execution_count": 87,
   "id": "c5e59fdf",
   "metadata": {},
   "outputs": [
    {
     "data": {
      "text/html": [
       "<div>\n",
       "<style scoped>\n",
       "    .dataframe tbody tr th:only-of-type {\n",
       "        vertical-align: middle;\n",
       "    }\n",
       "\n",
       "    .dataframe tbody tr th {\n",
       "        vertical-align: top;\n",
       "    }\n",
       "\n",
       "    .dataframe thead th {\n",
       "        text-align: right;\n",
       "    }\n",
       "</style>\n",
       "<table border=\"1\" class=\"dataframe\">\n",
       "  <thead>\n",
       "    <tr style=\"text-align: right;\">\n",
       "      <th></th>\n",
       "      <th>Title</th>\n",
       "      <th>Price</th>\n",
       "      <th>Date</th>\n",
       "    </tr>\n",
       "  </thead>\n",
       "  <tbody>\n",
       "    <tr>\n",
       "      <th>0</th>\n",
       "      <td>SQL: 3 books 1 - The Ultimate Beginner, Interm...</td>\n",
       "      <td>22.79</td>\n",
       "      <td>2022-11-06</td>\n",
       "    </tr>\n",
       "    <tr>\n",
       "      <th>1</th>\n",
       "      <td>SQL: 3 books 1 - The Ultimate Beginner, Interm...</td>\n",
       "      <td>22.79</td>\n",
       "      <td>2022-11-06</td>\n",
       "    </tr>\n",
       "    <tr>\n",
       "      <th>2</th>\n",
       "      <td>SQL: 3 books 1 - The Ultimate Beginner, Interm...</td>\n",
       "      <td>22.79</td>\n",
       "      <td>2022-11-06</td>\n",
       "    </tr>\n",
       "    <tr>\n",
       "      <th>3</th>\n",
       "      <td>SQL: 3 books 1 - The Ultimate Beginner, Interm...</td>\n",
       "      <td>22.79</td>\n",
       "      <td>2022-11-06</td>\n",
       "    </tr>\n",
       "    <tr>\n",
       "      <th>4</th>\n",
       "      <td>SQL: 3 books 1 - The Ultimate Beginner, Interm...</td>\n",
       "      <td>22.79</td>\n",
       "      <td>2022-11-06</td>\n",
       "    </tr>\n",
       "    <tr>\n",
       "      <th>5</th>\n",
       "      <td>SQL: 3 books 1 - The Ultimate Beginner, Interm...</td>\n",
       "      <td>22.79</td>\n",
       "      <td>2022-11-06</td>\n",
       "    </tr>\n",
       "    <tr>\n",
       "      <th>6</th>\n",
       "      <td>SQL: 3 books 1 - The Ultimate Beginner, Interm...</td>\n",
       "      <td>22.79</td>\n",
       "      <td>2022-11-06</td>\n",
       "    </tr>\n",
       "    <tr>\n",
       "      <th>7</th>\n",
       "      <td>SQL: 3 books 1 - The Ultimate Beginner, Interm...</td>\n",
       "      <td>22.79</td>\n",
       "      <td>2022-11-06</td>\n",
       "    </tr>\n",
       "    <tr>\n",
       "      <th>8</th>\n",
       "      <td>SQL: 3 books 1 - The Ultimate Beginner, Interm...</td>\n",
       "      <td>22.79</td>\n",
       "      <td>2022-11-06</td>\n",
       "    </tr>\n",
       "    <tr>\n",
       "      <th>9</th>\n",
       "      <td>SQL: 3 books 1 - The Ultimate Beginner, Interm...</td>\n",
       "      <td>22.79</td>\n",
       "      <td>2022-11-06</td>\n",
       "    </tr>\n",
       "    <tr>\n",
       "      <th>10</th>\n",
       "      <td>SQL: 3 books 1 - The Ultimate Beginner, Interm...</td>\n",
       "      <td>22.79</td>\n",
       "      <td>2022-11-06</td>\n",
       "    </tr>\n",
       "    <tr>\n",
       "      <th>11</th>\n",
       "      <td>SQL: 3 books 1 - The Ultimate Beginner, Interm...</td>\n",
       "      <td>22.79</td>\n",
       "      <td>2022-11-06</td>\n",
       "    </tr>\n",
       "    <tr>\n",
       "      <th>12</th>\n",
       "      <td>SQL: 3 books 1 - The Ultimate Beginner, Interm...</td>\n",
       "      <td>22.79</td>\n",
       "      <td>2022-11-06</td>\n",
       "    </tr>\n",
       "    <tr>\n",
       "      <th>13</th>\n",
       "      <td>SQL: 3 books 1 - The Ultimate Beginner, Interm...</td>\n",
       "      <td>22.79</td>\n",
       "      <td>2022-11-06</td>\n",
       "    </tr>\n",
       "    <tr>\n",
       "      <th>14</th>\n",
       "      <td>SQL: 3 books 1 - The Ultimate Beginner, Interm...</td>\n",
       "      <td>22.79</td>\n",
       "      <td>2022-11-06</td>\n",
       "    </tr>\n",
       "    <tr>\n",
       "      <th>15</th>\n",
       "      <td>SQL: 3 books 1 - The Ultimate Beginner, Interm...</td>\n",
       "      <td>22.79</td>\n",
       "      <td>2022-11-06</td>\n",
       "    </tr>\n",
       "    <tr>\n",
       "      <th>16</th>\n",
       "      <td>SQL: 3 books 1 - The Ultimate Beginner, Interm...</td>\n",
       "      <td>22.79</td>\n",
       "      <td>2022-11-06</td>\n",
       "    </tr>\n",
       "    <tr>\n",
       "      <th>17</th>\n",
       "      <td>SQL: 3 books 1 - The Ultimate Beginner, Interm...</td>\n",
       "      <td>22.79</td>\n",
       "      <td>2022-11-06</td>\n",
       "    </tr>\n",
       "    <tr>\n",
       "      <th>18</th>\n",
       "      <td>SQL: 3 books 1 - The Ultimate Beginner, Interm...</td>\n",
       "      <td>22.79</td>\n",
       "      <td>2022-11-06</td>\n",
       "    </tr>\n",
       "    <tr>\n",
       "      <th>19</th>\n",
       "      <td>SQL: 3 books 1 - The Ultimate Beginner, Interm...</td>\n",
       "      <td>22.79</td>\n",
       "      <td>2022-11-06</td>\n",
       "    </tr>\n",
       "    <tr>\n",
       "      <th>20</th>\n",
       "      <td>SQL: 3 books 1 - The Ultimate Beginner, Interm...</td>\n",
       "      <td>22.79</td>\n",
       "      <td>2022-11-06</td>\n",
       "    </tr>\n",
       "    <tr>\n",
       "      <th>21</th>\n",
       "      <td>SQL: 3 books 1 - The Ultimate Beginner, Interm...</td>\n",
       "      <td>22.79</td>\n",
       "      <td>2022-11-06</td>\n",
       "    </tr>\n",
       "  </tbody>\n",
       "</table>\n",
       "</div>"
      ],
      "text/plain": [
       "                                                Title  Price        Date\n",
       "0   SQL: 3 books 1 - The Ultimate Beginner, Interm...  22.79  2022-11-06\n",
       "1   SQL: 3 books 1 - The Ultimate Beginner, Interm...  22.79  2022-11-06\n",
       "2   SQL: 3 books 1 - The Ultimate Beginner, Interm...  22.79  2022-11-06\n",
       "3   SQL: 3 books 1 - The Ultimate Beginner, Interm...  22.79  2022-11-06\n",
       "4   SQL: 3 books 1 - The Ultimate Beginner, Interm...  22.79  2022-11-06\n",
       "5   SQL: 3 books 1 - The Ultimate Beginner, Interm...  22.79  2022-11-06\n",
       "6   SQL: 3 books 1 - The Ultimate Beginner, Interm...  22.79  2022-11-06\n",
       "7   SQL: 3 books 1 - The Ultimate Beginner, Interm...  22.79  2022-11-06\n",
       "8   SQL: 3 books 1 - The Ultimate Beginner, Interm...  22.79  2022-11-06\n",
       "9   SQL: 3 books 1 - The Ultimate Beginner, Interm...  22.79  2022-11-06\n",
       "10  SQL: 3 books 1 - The Ultimate Beginner, Interm...  22.79  2022-11-06\n",
       "11  SQL: 3 books 1 - The Ultimate Beginner, Interm...  22.79  2022-11-06\n",
       "12  SQL: 3 books 1 - The Ultimate Beginner, Interm...  22.79  2022-11-06\n",
       "13  SQL: 3 books 1 - The Ultimate Beginner, Interm...  22.79  2022-11-06\n",
       "14  SQL: 3 books 1 - The Ultimate Beginner, Interm...  22.79  2022-11-06\n",
       "15  SQL: 3 books 1 - The Ultimate Beginner, Interm...  22.79  2022-11-06\n",
       "16  SQL: 3 books 1 - The Ultimate Beginner, Interm...  22.79  2022-11-06\n",
       "17  SQL: 3 books 1 - The Ultimate Beginner, Interm...  22.79  2022-11-06\n",
       "18  SQL: 3 books 1 - The Ultimate Beginner, Interm...  22.79  2022-11-06\n",
       "19  SQL: 3 books 1 - The Ultimate Beginner, Interm...  22.79  2022-11-06\n",
       "20  SQL: 3 books 1 - The Ultimate Beginner, Interm...  22.79  2022-11-06\n",
       "21  SQL: 3 books 1 - The Ultimate Beginner, Interm...  22.79  2022-11-06"
      ]
     },
     "execution_count": 87,
     "metadata": {},
     "output_type": "execute_result"
    }
   ],
   "source": [
    "df = pd.read_csv('WebScrapingUsingPython.csv')\n",
    "\n",
    "df"
   ]
  },
  {
   "cell_type": "code",
   "execution_count": null,
   "id": "d84d8ead",
   "metadata": {},
   "outputs": [],
   "source": []
  },
  {
   "cell_type": "code",
   "execution_count": null,
   "id": "73479487",
   "metadata": {},
   "outputs": [],
   "source": []
  },
  {
   "cell_type": "code",
   "execution_count": null,
   "id": "6b95f3e0",
   "metadata": {},
   "outputs": [],
   "source": []
  },
  {
   "cell_type": "code",
   "execution_count": null,
   "id": "e7219917",
   "metadata": {},
   "outputs": [],
   "source": []
  },
  {
   "cell_type": "code",
   "execution_count": null,
   "id": "63feccb6",
   "metadata": {},
   "outputs": [],
   "source": []
  },
  {
   "cell_type": "code",
   "execution_count": null,
   "id": "6ce35ee6",
   "metadata": {},
   "outputs": [],
   "source": []
  },
  {
   "cell_type": "code",
   "execution_count": null,
   "id": "78e37922",
   "metadata": {},
   "outputs": [],
   "source": []
  },
  {
   "cell_type": "code",
   "execution_count": null,
   "id": "85e71f91",
   "metadata": {},
   "outputs": [],
   "source": []
  },
  {
   "cell_type": "code",
   "execution_count": null,
   "id": "94104033",
   "metadata": {},
   "outputs": [],
   "source": []
  },
  {
   "cell_type": "code",
   "execution_count": null,
   "id": "82d23a87",
   "metadata": {},
   "outputs": [],
   "source": []
  },
  {
   "cell_type": "code",
   "execution_count": null,
   "id": "fec3504d",
   "metadata": {},
   "outputs": [],
   "source": []
  },
  {
   "cell_type": "code",
   "execution_count": null,
   "id": "7b16a58f",
   "metadata": {},
   "outputs": [],
   "source": []
  },
  {
   "cell_type": "code",
   "execution_count": null,
   "id": "8fab7e89",
   "metadata": {},
   "outputs": [],
   "source": []
  },
  {
   "cell_type": "code",
   "execution_count": null,
   "id": "84f3831b",
   "metadata": {},
   "outputs": [],
   "source": []
  },
  {
   "cell_type": "code",
   "execution_count": null,
   "id": "299a5aab",
   "metadata": {},
   "outputs": [],
   "source": []
  },
  {
   "cell_type": "code",
   "execution_count": null,
   "id": "dada6eed",
   "metadata": {},
   "outputs": [],
   "source": []
  },
  {
   "cell_type": "code",
   "execution_count": null,
   "id": "7cd27a5f",
   "metadata": {},
   "outputs": [],
   "source": []
  },
  {
   "cell_type": "code",
   "execution_count": null,
   "id": "91c51f6c",
   "metadata": {},
   "outputs": [],
   "source": []
  },
  {
   "cell_type": "code",
   "execution_count": null,
   "id": "9de22077",
   "metadata": {},
   "outputs": [],
   "source": []
  },
  {
   "cell_type": "code",
   "execution_count": null,
   "id": "d55058e8",
   "metadata": {},
   "outputs": [],
   "source": []
  },
  {
   "cell_type": "code",
   "execution_count": null,
   "id": "363b57d3",
   "metadata": {},
   "outputs": [],
   "source": []
  },
  {
   "cell_type": "code",
   "execution_count": null,
   "id": "3f82625a",
   "metadata": {},
   "outputs": [],
   "source": []
  },
  {
   "cell_type": "code",
   "execution_count": null,
   "id": "d7ce57e5",
   "metadata": {},
   "outputs": [],
   "source": []
  },
  {
   "cell_type": "code",
   "execution_count": null,
   "id": "886b3807",
   "metadata": {},
   "outputs": [],
   "source": []
  },
  {
   "cell_type": "code",
   "execution_count": null,
   "id": "bcb3e110",
   "metadata": {},
   "outputs": [],
   "source": []
  },
  {
   "cell_type": "code",
   "execution_count": null,
   "id": "653fbcb2",
   "metadata": {},
   "outputs": [],
   "source": []
  },
  {
   "cell_type": "code",
   "execution_count": null,
   "id": "03b220cb",
   "metadata": {},
   "outputs": [],
   "source": []
  }
 ],
 "metadata": {
  "kernelspec": {
   "display_name": "Python 3",
   "language": "python",
   "name": "python3"
  },
  "language_info": {
   "codemirror_mode": {
    "name": "ipython",
    "version": 3
   },
   "file_extension": ".py",
   "mimetype": "text/x-python",
   "name": "python",
   "nbconvert_exporter": "python",
   "pygments_lexer": "ipython3",
   "version": "3.8.8"
  }
 },
 "nbformat": 4,
 "nbformat_minor": 5
}
